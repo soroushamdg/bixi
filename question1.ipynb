{
 "cells": [
  {
   "cell_type": "markdown",
   "id": "2d59bc41-3140-4284-ad29-9f4ed547c557",
   "metadata": {},
   "source": [
    "### Trip Volume Analysis\n",
    "## How has the volume of Bixi trips changed over time?"
   ]
  },
  {
   "cell_type": "markdown",
   "id": "21ab1e5d-2a42-4c49-860b-668fe71ad351",
   "metadata": {},
   "source": [
    "using open data from bixi's website from 2014 to 2024"
   ]
  },
  {
   "cell_type": "code",
   "execution_count": 3,
   "id": "069408d6-1a24-405b-a78b-09a656cdf16b",
   "metadata": {},
   "outputs": [],
   "source": [
    "import os\n",
    "import numpy as np\n",
    "import pandas as pd\n",
    "import matplotlib.pyplot as plt\n",
    "import seaborn as sns\n",
    "import scipy.stats as ss"
   ]
  },
  {
   "cell_type": "markdown",
   "id": "f4dbc005-eca4-4e6e-8d19-37d47eab1d0d",
   "metadata": {},
   "source": [
    "## Part 1 : Cleaning data"
   ]
  },
  {
   "cell_type": "code",
   "execution_count": 4,
   "id": "5beab340-236b-4530-ac3f-59daba9a7bdf",
   "metadata": {},
   "outputs": [
    {
     "data": {
      "text/plain": [
       "['.DS_Store',\n",
       " 'BixiMontrealRentals2016',\n",
       " 'BixiMontrealRentals2018',\n",
       " 'BixiMontrealRentals2020',\n",
       " 'BixiMontrealRentals2021',\n",
       " 'BixiMontrealRentals2019',\n",
       " 'BixiMontrealRentals2017',\n",
       " 'BixiMontrealRentals2015',\n",
       " 'BixiMontrealRentals2023',\n",
       " 'BixiMontrealRentals2024',\n",
       " 'BixiMontrealRentals2022',\n",
       " 'BixiMontrealRentals2014']"
      ]
     },
     "execution_count": 4,
     "metadata": {},
     "output_type": "execute_result"
    }
   ],
   "source": [
    "data_folder = 'raw_data/'\n",
    "files = os.listdir(data_folder)\n",
    "csv_files = [f for f in files]\n",
    "csv_files"
   ]
  },
  {
   "cell_type": "markdown",
   "id": "681a5689",
   "metadata": {},
   "source": [
    "### Cleaning 2014 - 2019"
   ]
  },
  {
   "cell_type": "code",
   "execution_count": 5,
   "id": "1e2b87ba-0b35-4867-85cc-1016920900fc",
   "metadata": {},
   "outputs": [],
   "source": [
    "def cleanMonthlyDataFor(year):\n",
    "    # Path to the folder containing year data files\n",
    "    data_folder = f'raw_data/BixiMontrealRentals{year}/'\n",
    "\n",
    "    # List of files to be processed\n",
    "    files = [f for f in os.listdir(data_folder) if f.startswith(f'OD_{year}') and f.endswith('.csv')]\n",
    "\n",
    "    # List to store month and row count (volume)\n",
    "    data = []\n",
    "\n",
    "    # Loop through each file, read it, and count the rows\n",
    "    for file in files:\n",
    "        # Extract the month from the filename (e.g., 'OD_{year}-04.csv' -> 04)\n",
    "        month = file.split('-')[1].split('.')[0]\n",
    "        \n",
    "        # Read the file into a DataFrame\n",
    "        file_path = os.path.join(data_folder, file)\n",
    "        df = pd.read_csv(file_path)\n",
    "        \n",
    "        # Count the number of rows (excluding the header)\n",
    "        volume = len(df)\n",
    "        \n",
    "        # Store the month and volume in the data list\n",
    "        data.append({'month': int(month), 'volume': volume})\n",
    "\n",
    "    # Create a DataFrame from the collected data\n",
    "    result_df = pd.DataFrame(data)\n",
    "\n",
    "    # Sort the DataFrame by month to ensure the order is correct\n",
    "    result_df = result_df.sort_values(by='month')\n",
    "\n",
    "    # Define the output path for the cleaned file\n",
    "    output_path = f'question1_data/{year}_cleaned.csv'\n",
    "\n",
    "    # Save the cleaned data to a new CSV file\n",
    "    result_df.to_csv(output_path, index=False)\n",
    "\n",
    "    print(f\"Cleaned data written to {output_path}\")\n"
   ]
  },
  {
   "cell_type": "code",
   "execution_count": 6,
   "id": "0f20b612",
   "metadata": {},
   "outputs": [
    {
     "name": "stdout",
     "output_type": "stream",
     "text": [
      "Cleaned data written to question1_data/2014_cleaned.csv\n",
      "Cleaned data written to question1_data/2015_cleaned.csv\n",
      "Cleaned data written to question1_data/2016_cleaned.csv\n",
      "Cleaned data written to question1_data/2017_cleaned.csv\n",
      "Cleaned data written to question1_data/2018_cleaned.csv\n"
     ]
    },
    {
     "name": "stderr",
     "output_type": "stream",
     "text": [
      "/var/folders/3s/z5bjp2_j3_525q4w1h0qhgpw0000gn/T/ipykernel_4023/1152578176.py:18: DtypeWarning: Columns (1,3) have mixed types. Specify dtype option on import or set low_memory=False.\n",
      "  df = pd.read_csv(file_path)\n"
     ]
    },
    {
     "name": "stdout",
     "output_type": "stream",
     "text": [
      "Cleaned data written to question1_data/2019_cleaned.csv\n"
     ]
    }
   ],
   "source": [
    "for year in range(2014,2020):\n",
    "    cleanMonthlyDataFor(year)"
   ]
  },
  {
   "cell_type": "markdown",
   "id": "f2665b39",
   "metadata": {},
   "source": [
    "### Cleaning 2020 - 2021"
   ]
  },
  {
   "cell_type": "code",
   "execution_count": 7,
   "id": "80420b45",
   "metadata": {},
   "outputs": [],
   "source": [
    "def cleanYearlyDataFor(year):\n",
    "    # Path to the {year} data file\n",
    "    data_file = f'raw_data/BixiMontrealRentals{year}/OD_{year}.csv'\n",
    "\n",
    "    # Read the CSV file into a DataFrame\n",
    "    df = pd.read_csv(data_file)\n",
    "\n",
    "    # Convert the 'start_date' column to datetime format\n",
    "    df['start_date'] = pd.to_datetime(df['start_date'])\n",
    "\n",
    "    # Extract the month from the 'start_date' column\n",
    "    df['month'] = df['start_date'].dt.month\n",
    "\n",
    "    # Group by month and count the number of rows (volume) for each month\n",
    "    monthly_volume = df.groupby('month').size().reset_index(name='volume')\n",
    "\n",
    "    # Define the output path for the cleaned file\n",
    "    output_path = f'question1_data/{year}_cleaned.csv'\n",
    "\n",
    "    # Save the cleaned data to a new CSV file\n",
    "    monthly_volume.to_csv(output_path, index=False)\n",
    "\n",
    "    print(f\"Cleaned data written to {output_path}\")\n",
    "\n"
   ]
  },
  {
   "cell_type": "code",
   "execution_count": 8,
   "id": "1e7c2aea",
   "metadata": {},
   "outputs": [
    {
     "name": "stdout",
     "output_type": "stream",
     "text": [
      "Cleaned data written to question1_data/2020_cleaned.csv\n",
      "Cleaned data written to question1_data/2021_cleaned.csv\n"
     ]
    }
   ],
   "source": [
    "for year in range(2020,2022):\n",
    "    cleanYearlyDataFor(year)"
   ]
  },
  {
   "cell_type": "markdown",
   "id": "a93e9d22",
   "metadata": {},
   "source": [
    "### Cleaning 2022 - 2024"
   ]
  },
  {
   "cell_type": "code",
   "execution_count": 11,
   "id": "2c05e4e6",
   "metadata": {},
   "outputs": [],
   "source": [
    "def cleanYearlyLinuxTStmpDataFor(year):\n",
    "    # Path to the {year} data file\n",
    "    data_file = f'raw_data/BixiMontrealRentals{year}/OD_{year}.csv'\n",
    "\n",
    "    # Read the CSV file into a DataFrame\n",
    "    df = pd.read_csv(data_file)\n",
    "        \n",
    "    # Convert 'STARTTIMEMS' (Linux timestamp in milliseconds) to datetime\n",
    "    df['start_time'] = pd.to_datetime(df['STARTTIMEMS'], unit='ms')\n",
    "\n",
    "    # Extract the month from the 'start_time' column\n",
    "    df['month'] = df['start_time'].dt.month\n",
    "\n",
    "    # Group by month and count the number of rows (volume) for each month\n",
    "    monthly_volume = df.groupby('month').size().reset_index(name='volume')\n",
    "\n",
    "    # Define the output path for the cleaned file\n",
    "    output_path = f'question1_data/{year}_cleaned.csv'\n",
    "\n",
    "    # Save the cleaned data to a new CSV file\n",
    "    monthly_volume.to_csv(output_path, index=False)\n",
    "\n",
    "    print(f\"Cleaned data written to {output_path}\")\n"
   ]
  },
  {
   "cell_type": "code",
   "execution_count": 13,
   "id": "14c1cb5b",
   "metadata": {},
   "outputs": [
    {
     "name": "stdout",
     "output_type": "stream",
     "text": [
      "Cleaned data written to question1_data/2022_cleaned.csv\n",
      "Cleaned data written to question1_data/2023_cleaned.csv\n",
      "Cleaned data written to question1_data/2024_cleaned.csv\n"
     ]
    }
   ],
   "source": [
    "for year in range(2022,2025):\n",
    "    cleanYearlyLinuxTStmpDataFor(year)"
   ]
  },
  {
   "cell_type": "code",
   "execution_count": null,
   "id": "23bbd901",
   "metadata": {},
   "outputs": [],
   "source": []
  }
 ],
 "metadata": {
  "kernelspec": {
   "display_name": "Python 3 (ipykernel)",
   "language": "python",
   "name": "python3"
  },
  "language_info": {
   "codemirror_mode": {
    "name": "ipython",
    "version": 3
   },
   "file_extension": ".py",
   "mimetype": "text/x-python",
   "name": "python",
   "nbconvert_exporter": "python",
   "pygments_lexer": "ipython3",
   "version": "3.12.4"
  }
 },
 "nbformat": 4,
 "nbformat_minor": 5
}
