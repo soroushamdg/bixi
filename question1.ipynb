{
 "cells": [
  {
   "cell_type": "markdown",
   "id": "2d59bc41-3140-4284-ad29-9f4ed547c557",
   "metadata": {},
   "source": [
    "### Trip Volume Analysis\n",
    "## How has the volume of Bixi trips changed over time?"
   ]
  },
  {
   "cell_type": "markdown",
   "id": "21ab1e5d-2a42-4c49-860b-668fe71ad351",
   "metadata": {},
   "source": [
    "using open data from bixi's website from 2014 to 2024"
   ]
  },
  {
   "cell_type": "code",
   "execution_count": 3,
   "id": "069408d6-1a24-405b-a78b-09a656cdf16b",
   "metadata": {},
   "outputs": [],
   "source": [
    "import numpy as np\n",
    "import pandas as pd\n",
    "import matplotlib.pyplot as plt\n",
    "import seaborn as sns\n",
    "import scipy.stats as ss"
   ]
  },
  {
   "cell_type": "markdown",
   "id": "f4dbc005-eca4-4e6e-8d19-37d47eab1d0d",
   "metadata": {},
   "source": [
    "## Part 1 : Cleaning data"
   ]
  },
  {
   "cell_type": "code",
   "execution_count": 7,
   "id": "5beab340-236b-4530-ac3f-59daba9a7bdf",
   "metadata": {},
   "outputs": [],
   "source": [
    "data_folder = '../raw_data/'\n"
   ]
  },
  {
   "cell_type": "code",
   "execution_count": null,
   "id": "1e2b87ba-0b35-4867-85cc-1016920900fc",
   "metadata": {},
   "outputs": [],
   "source": []
  }
 ],
 "metadata": {
  "kernelspec": {
   "display_name": "Python 3 (ipykernel)",
   "language": "python",
   "name": "python3"
  },
  "language_info": {
   "codemirror_mode": {
    "name": "ipython",
    "version": 3
   },
   "file_extension": ".py",
   "mimetype": "text/x-python",
   "name": "python",
   "nbconvert_exporter": "python",
   "pygments_lexer": "ipython3",
   "version": "3.1.-1"
  }
 },
 "nbformat": 4,
 "nbformat_minor": 5
}
